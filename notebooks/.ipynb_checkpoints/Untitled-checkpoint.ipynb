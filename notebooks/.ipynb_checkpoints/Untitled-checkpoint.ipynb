{
 "cells": [
  {
   "cell_type": "code",
   "execution_count": 5,
   "id": "1c75d577",
   "metadata": {},
   "outputs": [],
   "source": [
    "%matplotlib inline\n",
    "\n",
    "import pandas as pd\n",
    "import geopandas as gpd\n",
    "from shapely.geometry import Point\n",
    "from shapely.geometry import mapping\n",
    "import shapely.speedups # can help speed up processes\n",
    "import matplotlib.pyplot as plt\n",
    "from geopandas import GeoDataFrame\n",
    "from shapely.geometry import Point\n",
    "#from matplotlib.pyplot import figure\n",
    "import timeit\n",
    "# change default figsize\n",
    "#plt.rcParams['figure.figsize'] = (15, 15)"
   ]
  },
  {
   "cell_type": "code",
   "execution_count": null,
   "id": "10356354",
   "metadata": {},
   "outputs": [],
   "source": []
  }
 ],
 "metadata": {
  "kernelspec": {
   "display_name": "Python 3 (ipykernel)",
   "language": "python",
   "name": "python3"
  },
  "language_info": {
   "codemirror_mode": {
    "name": "ipython",
    "version": 3
   },
   "file_extension": ".py",
   "mimetype": "text/x-python",
   "name": "python",
   "nbconvert_exporter": "python",
   "pygments_lexer": "ipython3",
   "version": "3.11.0"
  }
 },
 "nbformat": 4,
 "nbformat_minor": 5
}
